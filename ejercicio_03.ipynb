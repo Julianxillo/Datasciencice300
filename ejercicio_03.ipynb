{
  "nbformat": 4,
  "nbformat_minor": 0,
  "metadata": {
    "colab": {
      "name": "ejercicio-03.ipynb",
      "provenance": [],
      "collapsed_sections": [],
      "authorship_tag": "ABX9TyOabt3a11aNFBpXF1FPzjwN",
      "include_colab_link": true
    },
    "kernelspec": {
      "name": "python3",
      "display_name": "Python 3"
    },
    "language_info": {
      "name": "python"
    }
  },
  "cells": [
    {
      "cell_type": "markdown",
      "metadata": {
        "id": "view-in-github",
        "colab_type": "text"
      },
      "source": [
        "<a href=\"https://colab.research.google.com/github/Julianxillo/Datasciencice300/blob/main/ejercicio_03.ipynb\" target=\"_parent\"><img src=\"https://colab.research.google.com/assets/colab-badge.svg\" alt=\"Open In Colab\"/></a>"
      ]
    },
    {
      "cell_type": "markdown",
      "source": [
        "# Ejercicio 1\n",
        "\n",
        "Escribir un programa para mostrar sólo los números de una lista (dada) que cumplan las condiciones siguientes ✈⏰♥⌛⛸🏀\n",
        "\n",
        "```lista = [14, 75, 150, 180, 145, 525, 50, 10, 56,55]```\n",
        "\n",
        "1. El número debe ser divisible por cinco 🙏\n",
        "2. Si el número es mayor que 150, sáltelo y pase al siguiente número 🫂\n",
        "3. Si el número es mayor que 500, paren el bucle 🔊"
      ],
      "metadata": {
        "id": "rnqKeyV2XMzM"
      }
    },
    {
      "cell_type": "code",
      "source": [
        "lista = [14, 75, 150, 180, 145, 525, 50, 10, 56,55]\n",
        "listaf = []\n",
        "for x in lista:\n",
        "  if  x>500:\n",
        "    break\n",
        "  elif x>150:\n",
        "      continue\n",
        "  elif x%5==0:\n",
        "    listaf.append(x)\n",
        "    print(listaf)"
      ],
      "metadata": {
        "colab": {
          "base_uri": "https://localhost:8080/"
        },
        "id": "dSKuBmZXXRSY",
        "outputId": "9d0e6a9c-0e8a-4279-d398-33a87a2fe3cb"
      },
      "execution_count": null,
      "outputs": [
        {
          "output_type": "stream",
          "name": "stdout",
          "text": [
            "[75]\n",
            "[75, 150]\n",
            "[75, 150, 145]\n"
          ]
        }
      ]
    },
    {
      "cell_type": "markdown",
      "source": [
        "# Ejercicio 2\n",
        "\n",
        "Escriba un programa para contar el número **entero** total de dígitos en un número usando un bucle while. ⚪❌💯👍⚡\n",
        "\n",
        "Por ejemplo, el número es 12345, por lo que la salida debe ser 5. 📷🥿🥲😕🔮\n",
        "\n",
        "> Bloque con sangría\n",
        "\n"
      ],
      "metadata": {
        "id": "KI28Moh5mzDj"
      }
    },
    {
      "cell_type": "code",
      "source": [
        "a = int(input(\"Por favor ingrese un número positivo: \"))\n",
        "i=0\n",
        "while a>0:\n",
        "  a=a//10\n",
        "  i=i+1\n",
        "print(\"El número ingresado tiene digitos\", i)"
      ],
      "metadata": {
        "colab": {
          "base_uri": "https://localhost:8080/"
        },
        "id": "bVIpHT_-tZQk",
        "outputId": "c8763fb3-6e27-4f04-f1d2-cdd487cdead0"
      },
      "execution_count": null,
      "outputs": [
        {
          "output_type": "stream",
          "name": "stdout",
          "text": [
            "Por favor ingrese un número positivo: 12\n",
            "El número ingresado tiene digitos 2\n"
          ]
        }
      ]
    },
    {
      "cell_type": "markdown",
      "source": [
        "# Ejercicio 3\n",
        "\n",
        "Escriba un programa para usar en bucle para imprimir el siguiente patrón de números inverso. **Ayuda** *Pueden usar un loop anidado* ☣🙂🚒⛴🗃⛲\n",
        "\n",
        "```\n",
        "6 5 4 3 2 1\n",
        "5 4 3 2 1 \n",
        "4 3 2 1 \n",
        "3 2 1\n",
        "2 1 \n",
        "1\n",
        "```"
      ],
      "metadata": {
        "id": "TCqQf_KqvVy8"
      }
    },
    {
      "cell_type": "code",
      "source": [
        "x = [7,6,5,4,3,2,1]\n",
        "while x:\n",
        "    x.pop(0)\n",
        "    print(x)\n"
      ],
      "metadata": {
        "colab": {
          "base_uri": "https://localhost:8080/"
        },
        "id": "-m9uspadxKUn",
        "outputId": "ff88fe97-edb4-4e98-d0e1-bf0995007d8f"
      },
      "execution_count": null,
      "outputs": [
        {
          "output_type": "stream",
          "name": "stdout",
          "text": [
            "[6, 5, 4, 3, 2, 1]\n",
            "[5, 4, 3, 2, 1]\n",
            "[4, 3, 2, 1]\n",
            "[3, 2, 1]\n",
            "[2, 1]\n",
            "[1]\n",
            "[]\n"
          ]
        }
      ]
    },
    {
      "cell_type": "markdown",
      "source": [
        "# Ejercicio 4\n",
        "\n",
        "Escriba un programa para calcular la suma de la siguiente serie hasta el n-ésimo término. 🧉👒😵🧭🈹🥸\n",
        "\n",
        "$$3+33+333+3333+33333+.....$$\n",
        "\n",
        "Por ejemplo, si n = 5 la serie se convertirá en 3 + 33 + 333 + 3333 + 33333 = 37035 🥸💵🐬⚓♊"
      ],
      "metadata": {
        "id": "TMAvCzLJDdct"
      }
    },
    {
      "cell_type": "code",
      "source": [
        "n=int(input('Por favor ingrese el valor de n:'))\n",
        "t=3\n",
        "p=0\n",
        "for i in range(0,n):\n",
        "  print(t,end=\"+\")\n",
        "  p+=t\n",
        "  t=t*10+3\n",
        "print(\" la suma de la serie es\", p)"
      ],
      "metadata": {
        "colab": {
          "base_uri": "https://localhost:8080/"
        },
        "id": "giWEUH2pTnBW",
        "outputId": "3e193fa5-3a8f-4937-a3e2-5c0f32e24c1a"
      },
      "execution_count": null,
      "outputs": [
        {
          "output_type": "stream",
          "name": "stdout",
          "text": [
            "ingrese el valor de n:1\n",
            "3+ la suma de la serie es 3\n"
          ]
        }
      ]
    },
    {
      "cell_type": "markdown",
      "source": [
        "# Ejercicio 5\n",
        "\n",
        "Crear una función que se llama ```funcion_xy``` que tome como argumento una lista de **numeros enteros** (dada, ver mas abajo) y adicionalmente permita la posibilidad de incorporar parametros adicionales ```*args```y ```**kargs```. \n",
        "\n",
        "```lista=[2,1,3,5,4,7,9,8,6,10]```\n",
        "\n",
        "Se requiere que la funcion tenga las siguientes caracteristicas\n",
        "\n",
        "```*args```\n",
        "\n",
        "1. Ordene la lista de menor a mayor y la devuelva como salida.\n",
        "2. Extraiga y muestre solo los numeros pares\n",
        "3. Calcular la media recortada al 10% de la lista. Para eso pueden utilizar importar la siguiente librería:     \n",
        "```from scipy import stats```\n",
        "Y utilizar la función ```stats.trim_mean(lista, 0.1, axis=0)```\n",
        "\n",
        "```**kargs```\n",
        "\n",
        "1. ```reverse == True``` => Debera invertir la lista \n",
        "2. ```odd == True``` => retorna una lista con los nombres 'pares' e 'impares' para cada posicion\n",
        "3. ```filter == True``` => extraer los valores mayores a 4 y mostrarlos\n",
        "\n",
        "\n",
        "**Nota :** En todos los casos n olviden la importancia del return y traten de aplicar todos los conceptos que hemos visto para resolver de la manera más eficiente posible."
      ],
      "metadata": {
        "id": "Mh6wCRtoHhtL"
      }
    },
    {
      "cell_type": "code",
      "source": [
        "import numpy as np \n",
        "from scipy import stats\n",
        "\n",
        "def funcion_xy(l, *args, **kargs):\n",
        "    if args:\n",
        "        if args[0] == a:\n",
        "            print('1. ordenando lista de la menor a mayor: ')\n",
        "            x=np.sort(l)\n",
        "            return x\n",
        "\n",
        "        elif args[0] == b:\n",
        "            print('2. extracción de números pares: ')\n",
        "            result = []\n",
        "            for i in l:\n",
        "                if i % 2 == 0:\n",
        "                    vec.append(i)\n",
        "            return vec\n",
        "\n",
        "        elif args[0] == 3:\n",
        "            print('3. La media recortada de la serie al 10%: ')\n",
        "            vec=stats.trim_mean(l, 0.1, axis=0)\n",
        "            return vec\n",
        "    if kargs.keys():\n",
        "        if 'reverse' in kargs.keys():            \n",
        "            if kargs['reverse'] == True:\n",
        "                print('4. Lista inversa')\n",
        "                l.reverse()\n",
        "                vec=l\n",
        "                return vec\n",
        "        \n",
        "        elif 'odd' in kargs.keys():\n",
        "            if kargs['odd'] == True:\n",
        "                vec = []\n",
        "                print('5. Determinar si es par o impar: ')\n",
        "                for i in l:\n",
        "                    if i % 2 == 0:\n",
        "                        vec.append('par')\n",
        "                    else:\n",
        "                        vec.append('impar')\n",
        "                return vec\n",
        "            \n",
        "        if 'filter' in kargs.keys():\n",
        "            if kargs['filter'] == True:\n",
        "                print('6. Extraer números mayores a 4')\n",
        "            vec = []\n",
        "            for i in l:\n",
        "                if i >4:\n",
        "                    vec.append(i)\n",
        "            \n",
        "            return vec"
      ],
      "metadata": {
        "id": "i4w-qcHuHxgp"
      },
      "execution_count": 157,
      "outputs": []
    },
    {
      "cell_type": "code",
      "source": [
        "lista=[2,1,3,5,4,7,9,8,6,10]\n",
        "funcion_xy(lista,a)"
      ],
      "metadata": {
        "colab": {
          "base_uri": "https://localhost:8080/"
        },
        "id": "BfDVZ-u1Is9N",
        "outputId": "519e9c70-cfc0-4e85-d17a-abd748734ecf"
      },
      "execution_count": 149,
      "outputs": [
        {
          "output_type": "stream",
          "name": "stdout",
          "text": [
            "1. ordenando lista de la menor a mayor: \n"
          ]
        },
        {
          "output_type": "execute_result",
          "data": {
            "text/plain": [
              "array([ 1,  2,  3,  4,  5,  6,  7,  8,  9, 10])"
            ]
          },
          "metadata": {},
          "execution_count": 149
        }
      ]
    },
    {
      "cell_type": "code",
      "source": [
        "lista=[2,1,3,5,4,7,9,8,6,10]\n",
        "funcion_xy(lista,b)"
      ],
      "metadata": {
        "colab": {
          "base_uri": "https://localhost:8080/"
        },
        "id": "SzJBWuWiLnt5",
        "outputId": "65335859-9a37-4493-df1c-c01e0ac7591f"
      },
      "execution_count": 150,
      "outputs": [
        {
          "output_type": "stream",
          "name": "stdout",
          "text": [
            "1. ordenando lista de la menor a mayor: \n"
          ]
        },
        {
          "output_type": "execute_result",
          "data": {
            "text/plain": [
              "array([ 1,  2,  3,  4,  5,  6,  7,  8,  9, 10])"
            ]
          },
          "metadata": {},
          "execution_count": 150
        }
      ]
    },
    {
      "cell_type": "code",
      "source": [
        "lista=[2,1,3,5,4,7,9,8,6,10]\n",
        "funcion_xy(lista,3)"
      ],
      "metadata": {
        "colab": {
          "base_uri": "https://localhost:8080/"
        },
        "id": "4JlYBD1iOaam",
        "outputId": "98a2fea6-8d02-430d-d7c9-a47fb11bb358"
      },
      "execution_count": 151,
      "outputs": [
        {
          "output_type": "stream",
          "name": "stdout",
          "text": [
            "3. La media recortada de la serie al 10%: \n"
          ]
        },
        {
          "output_type": "execute_result",
          "data": {
            "text/plain": [
              "5.5"
            ]
          },
          "metadata": {},
          "execution_count": 151
        }
      ]
    },
    {
      "cell_type": "code",
      "source": [
        "lista=[2,1,3,5,4,7,9,8,6,10]\n",
        "funcion_xy(lista,reverse=True)"
      ],
      "metadata": {
        "colab": {
          "base_uri": "https://localhost:8080/"
        },
        "id": "M10VEIFNOtC9",
        "outputId": "fc7b53a4-dc1d-4e42-dd57-d564304fd7d8"
      },
      "execution_count": 158,
      "outputs": [
        {
          "output_type": "stream",
          "name": "stdout",
          "text": [
            "4. Lista inversa\n"
          ]
        },
        {
          "output_type": "execute_result",
          "data": {
            "text/plain": [
              "[10, 6, 8, 9, 7, 4, 5, 3, 1, 2]"
            ]
          },
          "metadata": {},
          "execution_count": 158
        }
      ]
    },
    {
      "cell_type": "code",
      "source": [
        "lista=[2,1,3,5,4,7,9,8,6,10]\n",
        "funcion_xy(lista,odd=True)"
      ],
      "metadata": {
        "colab": {
          "base_uri": "https://localhost:8080/"
        },
        "id": "lEfKw6XmQj1b",
        "outputId": "f4e62682-dcba-4cce-d2af-576854707ab1"
      },
      "execution_count": 153,
      "outputs": [
        {
          "output_type": "stream",
          "name": "stdout",
          "text": [
            "5. Determinar si es par o impar: \n"
          ]
        },
        {
          "output_type": "execute_result",
          "data": {
            "text/plain": [
              "['par',\n",
              " 'impar',\n",
              " 'impar',\n",
              " 'impar',\n",
              " 'par',\n",
              " 'impar',\n",
              " 'impar',\n",
              " 'par',\n",
              " 'par',\n",
              " 'par']"
            ]
          },
          "metadata": {},
          "execution_count": 153
        }
      ]
    },
    {
      "cell_type": "code",
      "source": [
        "lista=[2,1,3,5,4,7,9,8,6,10]\n",
        "funcion_xy(lista,filter=True)"
      ],
      "metadata": {
        "colab": {
          "base_uri": "https://localhost:8080/"
        },
        "id": "NWwRjdM0SbZM",
        "outputId": "ad9d9da4-cd64-42a2-b56b-874cde53fd72"
      },
      "execution_count": 154,
      "outputs": [
        {
          "output_type": "stream",
          "name": "stdout",
          "text": [
            "6. Extraer números mayores a 4\n"
          ]
        },
        {
          "output_type": "execute_result",
          "data": {
            "text/plain": [
              "[5, 7, 9, 8, 6, 10]"
            ]
          },
          "metadata": {},
          "execution_count": 154
        }
      ]
    }
  ]
}