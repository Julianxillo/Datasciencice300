{
  "nbformat": 4,
  "nbformat_minor": 0,
  "metadata": {
    "colab": {
      "name": "ejercicio-02.ipynb",
      "provenance": [],
      "collapsed_sections": [],
      "authorship_tag": "ABX9TyMgw9PvTuf3XttFihtgRc3P",
      "include_colab_link": true
    },
    "kernelspec": {
      "name": "python3",
      "display_name": "Python 3"
    },
    "language_info": {
      "name": "python"
    }
  },
  "cells": [
    {
      "cell_type": "markdown",
      "metadata": {
        "id": "view-in-github",
        "colab_type": "text"
      },
      "source": [
        "<a href=\"https://colab.research.google.com/github/Julianxillo/Datasciencice300/blob/main/ejercicio_02.ipynb\" target=\"_parent\"><img src=\"https://colab.research.google.com/assets/colab-badge.svg\" alt=\"Open In Colab\"/></a>"
      ]
    },
    {
      "cell_type": "markdown",
      "metadata": {
        "id": "pOlD8FlbHFan"
      },
      "source": [
        "## Ejercicio 1 : Listas\n",
        "\n",
        "Tienen la siguiente lista🏀⚾⚽🥤⭐\n",
        "\n",
        "```list1 = [10, 20, [300, 400, [5000, 6000], 500], 30, 40]```\n",
        "\n",
        "Se desea obtener el siguiente output **pero** usando solo el metódo ```append```:\n",
        "\n",
        "```[10, 20, [300, 400, [5000, 6000, 7000], 500], 30, 40]```"
      ]
    },
    {
      "cell_type": "code",
      "metadata": {
        "colab": {
          "base_uri": "https://localhost:8080/"
        },
        "id": "h8LgEdgkHHVg",
        "outputId": "ba23a02a-a84b-43f6-e26b-af16246a194c"
      },
      "source": [
        "lt=[10, 20, [300, 400, [5000, 6000], 500], 30, 40]\n",
        "lt[2][2].append(7000)\n",
        "print(lt)"
      ],
      "execution_count": null,
      "outputs": [
        {
          "output_type": "stream",
          "name": "stdout",
          "text": [
            "[10, 20, [300, 400, [5000, 6000, 7000], 500], 30, 40]\n"
          ]
        }
      ]
    },
    {
      "cell_type": "markdown",
      "metadata": {
        "id": "5JYakSFaKqlF"
      },
      "source": [
        "## Ejercicio 2 : Sets\n",
        "Dados los siguientes conjuntos⛹✅☁⚽✨\n",
        "\n",
        "```s1 = {10, 20, 30, 40, 50}```\n",
        "\n",
        "```s2 = {30, 40, 50, 60, 70}```\n",
        "\n",
        "1. Como es posible obtener el siguiente output con alguno de los metódos vistos para sets\n",
        "\n",
        "```{40, 50, 30}```\n",
        "\n",
        "2. Como es posible obtener el siguiente output con alguno de los metódos vistos para sets\n",
        "\n",
        "```{70, 40, 10, 50, 20, 60, 30}```\n",
        "\n",
        "3. Extraer todos los elementos de s2 que no estan en s1"
      ]
    },
    {
      "cell_type": "code",
      "metadata": {
        "colab": {
          "base_uri": "https://localhost:8080/"
        },
        "id": "K1KFYG1BKwoR",
        "outputId": "4913ec2a-d5b9-4ad3-a0be-202815291340"
      },
      "source": [
        "s1 = {10, 20, 30, 40, 50}\n",
        "s2 = {30, 40, 50, 60, 70}\n",
        "\n",
        "a=(s1.intersection(s2))\n",
        "b=(s1.union(s2))\n",
        "c=(s2.difference(s1))\n",
        "\n",
        "print (\"1.  La intercepción de s1 y s2 \",a)\n",
        "print (\"2.  La unión de s1 y s2 \",b)\n",
        "print (\"3.  La diferencia de s1 y s2 \",c)"
      ],
      "execution_count": null,
      "outputs": [
        {
          "output_type": "stream",
          "name": "stdout",
          "text": [
            "1.  La intercepción de s1 y s2  {40, 50, 30}\n",
            "2.  La unión de s1 y s2  {70, 40, 10, 50, 20, 60, 30}\n",
            "3.  La diferencia de s1 y s2  {60, 70}\n"
          ]
        }
      ]
    },
    {
      "cell_type": "markdown",
      "metadata": {
        "id": "L6gmJkoZMFjJ"
      },
      "source": [
        "## Ejercicio 3: Tuplas\n",
        "\n",
        "Dada la siguiente tupla✈⏰♒⛹\n",
        "\n",
        "```tupla=(10, 20, 30, 40, 50)```\n",
        "\n",
        "Responder:\n",
        "\n",
        "1. Ordenar la tupla de mayor a menor\n",
        "2. Extraer los valores de la tupla en las siguientes variables: a,b,c,d,e\n",
        "3. Ahora suponga que tiene la siguiente tupla: \n",
        "```tupla_d = (11, [22, 33], 44, 55)```\n",
        "Recordando el concepto de inmutabilidad de las tuplas, sería posible poder modificar el valor **22** por **222** o en este caso no se puede?. Justifiquen"
      ]
    },
    {
      "cell_type": "code",
      "metadata": {
        "id": "wdzLMwxCNsLY",
        "colab": {
          "base_uri": "https://localhost:8080/"
        },
        "outputId": "8cab1e92-ac03-43e2-fe4b-c5c1a1fcf6ed"
      },
      "source": [
        "tupla=(10,20,30,40,50)\n",
        "a=(tupla[::-1])\n",
        "print(\"1. ordenar una tupla \",a)\n",
        "a,b,c,d,e=tupla\n",
        "print(\"2. extraer datos de la tupla \",a,b,c,d,e)\n",
        "tupla_d = (11, [22, 33], 44, 55)\n",
        "tupla_d[1][0] = 222\n",
        "print(\"3. modificar el valor de un elemento\",tupla_d)\n"
      ],
      "execution_count": 4,
      "outputs": [
        {
          "output_type": "stream",
          "name": "stdout",
          "text": [
            "1. ordenar una tupla  (50, 40, 30, 20, 10)\n",
            "2. extraer datos de la tupla  10 20 30 40 50\n",
            "3. modificar el valor de un elemento (11, [222, 33], 44, 55)\n"
          ]
        }
      ]
    },
    {
      "cell_type": "markdown",
      "metadata": {
        "id": "mCZRT9qut3en"
      },
      "source": [
        "## Ejercicio 4: Diccionarios\n",
        "\n",
        "1. Supongan que tienen el siguiente diccionario similar a lo que se obtiene de una API ([texto del enlace](https://www.freecodecamp.org/news/what-is-an-api-in-english-please-b880a3214a82/)) \n",
        "```\n",
        "dict_david = {\n",
        "    \"clase\": {\n",
        "        \"estudiante\": {\n",
        "            \"nombre\": \"David\",\n",
        "            \"notas\": {\n",
        "                \"fisica\": 4.9,\n",
        "                \"matematicas\": 4.8\n",
        "            }\n",
        "        }\n",
        "    }\n",
        "}\n",
        "```\n",
        "\n",
        "Como se puede obtener el valor respectivo para la llave primaria ```matematicas```❗♥♨ℹ\n",
        "\n",
        "2. Con base en el siguiente diccionario, renombrar la llave primaria ciudad por ubicacion 🥱⏬⚡✉\n",
        "\n",
        "```dic_prueba = {\n",
        "  \"nombre\": \"Juan\",\n",
        "  \"edad\":25,\n",
        "  \"salario\": 8000000,\n",
        "  \"ciudad\": \"Santiago\"\n",
        "}\n",
        "```\n",
        "\n",
        "3. Obtener la llave primaria del valor minimo para el siguiente diccionario 😶🧵⚔♦\n",
        "\n",
        "```\n",
        "dicc = {\n",
        "  'Bayesiana': 4.5,\n",
        "  'Series Tiempo': 4.6,\n",
        "  'Calculo Actuarial': 4.2\n",
        "}\n",
        "```\n",
        "\n",
        "4. Con base en el siguiente diccionario✈⚔😀😼\n",
        "```\n",
        "dict_a = {\n",
        "    'e1': {'nombre': 'David', 'salario': 12000000},\n",
        "    'e2': {'nombre': 'Juan', 'salario': 7590000},\n",
        "    'e3': {'nombre': 'Amir', 'salario': 6787000}\n",
        "}\n",
        "```\n",
        "Reemplazar el valor de 7590000 de Juan por 8000000."
      ]
    },
    {
      "cell_type": "code",
      "metadata": {
        "colab": {
          "base_uri": "https://localhost:8080/"
        },
        "id": "ewWOlo2Eueo4",
        "outputId": "920e3f71-3f4e-46d2-ee3b-b217e52c7fb8"
      },
      "source": [
        "dict_david = {\n",
        " \"clase\": {\n",
        "     \"estudiante\": {\n",
        "         \"nombre\": \"David\",\n",
        "         \"notas\": {\n",
        "             \"fisica\": 4.9,\n",
        "             \"matematicas\": 4.8\n",
        "         }\n",
        "     }\n",
        " }\n",
        "}\n",
        "print(\"1. extraer la nota de matematicás \",dict_david['clase']['estudiante']['notas']['matematicas'])"
      ],
      "execution_count": 6,
      "outputs": [
        {
          "output_type": "stream",
          "name": "stdout",
          "text": [
            "1. extraer la nota de matematicás  4.8\n"
          ]
        }
      ]
    },
    {
      "cell_type": "code",
      "metadata": {
        "colab": {
          "base_uri": "https://localhost:8080/"
        },
        "id": "f9An93idvIEy",
        "outputId": "e8dd0fd5-8490-4215-bb43-9e9d7ce592d3"
      },
      "source": [
        "dic_prueba = {\n",
        "  \"nombre\": \"Juan\",\n",
        "  \"edad\":25,\n",
        "  \"salario\": 8000000,\n",
        "  \"ciudad\": \"Santiago\"\n",
        "}\n",
        "dic_prueba['ubicacion'] = dic_prueba.pop('ciudad')\n",
        "print(\"2. renombrar la llave primaria de ciudad por ubicación \",dic_prueba)"
      ],
      "execution_count": 8,
      "outputs": [
        {
          "output_type": "stream",
          "name": "stdout",
          "text": [
            "2. renombrar la llave primaria de ciudad por ubicación  {'nombre': 'Juan', 'edad': 25, 'salario': 8000000, 'ubicacion': 'Santiago'}\n"
          ]
        }
      ]
    },
    {
      "cell_type": "code",
      "metadata": {
        "colab": {
          "base_uri": "https://localhost:8080/"
        },
        "id": "2A_oYMcHxgRK",
        "outputId": "127dd972-a14f-4f6c-af0c-4d0f17f6bc5a"
      },
      "source": [
        "\n",
        "dicc = {\n",
        "  'Bayesiana': 4.5,\n",
        "  'Series Tiempo': 4.6,\n",
        "  'Calculo Actuarial': 4.2\n",
        "}\n",
        "print(\"3. Obterne el valor minimo del diccionario \",min(dicc, key=dicc.get))"
      ],
      "execution_count": 10,
      "outputs": [
        {
          "output_type": "stream",
          "name": "stdout",
          "text": [
            "3. Obterne el valor minimo del diccionario  Calculo Actuarial\n"
          ]
        }
      ]
    },
    {
      "cell_type": "code",
      "metadata": {
        "colab": {
          "base_uri": "https://localhost:8080/"
        },
        "id": "kV1xgtMeyErT",
        "outputId": "f489f326-8d3a-425a-e815-31cc499d96f3"
      },
      "source": [
        "dict_a = {\n",
        "    'e1': {'nombre': 'David', 'salario': 12000000},\n",
        "    'e2': {'nombre': 'Juan', 'salario': 7590000},\n",
        "    'e3': {'nombre': 'Amir', 'salario': 6787000}\n",
        "}\n",
        "dict_a['e2']['salario'] = 8000000\n",
        "print(\"4. aumentar el sueldo a Juan \",dict_a)"
      ],
      "execution_count": 11,
      "outputs": [
        {
          "output_type": "stream",
          "name": "stdout",
          "text": [
            "4. aumentar el sueldo a Juan  {'e1': {'nombre': 'David', 'salario': 12000000}, 'e2': {'nombre': 'Juan', 'salario': 8000000}, 'e3': {'nombre': 'Amir', 'salario': 6787000}}\n"
          ]
        }
      ]
    }
  ]
}